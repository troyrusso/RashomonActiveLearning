{
 "cells": [
  {
   "cell_type": "markdown",
   "metadata": {},
   "source": [
    "# Packages"
   ]
  },
  {
   "cell_type": "code",
   "execution_count": 7,
   "metadata": {},
   "outputs": [],
   "source": [
    "### Append Path ###\n",
    "import sys\n",
    "sys.path.append('..')\n",
    "from utils.Auxiliary import FindMissingSimulations"
   ]
  },
  {
   "cell_type": "markdown",
   "metadata": {},
   "source": [
    "# Input"
   ]
  },
  {
   "cell_type": "code",
   "execution_count": 8,
   "metadata": {},
   "outputs": [],
   "source": [
    "# Input text\n",
    "text1 = \"\"\"\n",
    "\n",
    " 0CE_DA005_D4B10.pkl    15CE_UA005_D4B10.pkl   21CE_DA005_D4B10.pkl   27CE_UA005_D4B10.pkl   33CE_DA005_D4B10.pkl   39CE_UA005_D4B10.pkl   45CE_DA005_D4B10.pkl   5CE_UA005_D4B10.pkl\n",
    " 0CE_DA01_D4B10.pkl     15CE_UA01_D4B10.pkl    21CE_DA01_D4B10.pkl    27CE_UA01_D4B10.pkl    33CE_DA01_D4B10.pkl    39CE_UA01_D4B10.pkl    45CE_DA01_D4B10.pkl    5CE_UA01_D4B10.pkl\n",
    " 0CE_UA005_D4B10.pkl    16CE_DA005_D4B10.pkl   21CE_UA005_D4B10.pkl   28CE_DA005_D4B10.pkl   33CE_UA005_D4B10.pkl   3CE_DA005_D4B10.pkl    45CE_UA005_D4B10.pkl   6CE_DA005_D4B10.pkl\n",
    " 0CE_UA01_D4B10.pkl     16CE_DA01_D4B10.pkl    21CE_UA01_D4B10.pkl    28CE_DA01_D4B10.pkl    33CE_UA01_D4B10.pkl    3CE_DA01_D4B10.pkl     45CE_UA01_D4B10.pkl    6CE_DA01_D4B10.pkl\n",
    " 10CE_DA005_D4B10.pkl   16CE_UA005_D4B10.pkl   22CE_DA005_D4B10.pkl   28CE_UA005_D4B10.pkl   34CE_DA005_D4B10.pkl   3CE_UA005_D4B10.pkl    46CE_DA005_D4B10.pkl   6CE_UA005_D4B10.pkl\n",
    " 10CE_DA01_D4B10.pkl    16CE_UA01_D4B10.pkl    22CE_DA01_D4B10.pkl    28CE_UA01_D4B10.pkl    34CE_DA01_D4B10.pkl    3CE_UA01_D4B10.pkl     46CE_DA01_D4B10.pkl    6CE_UA01_D4B10.pkl\n",
    " 10CE_UA005_D4B10.pkl   17CE_DA005_D4B10.pkl   22CE_UA005_D4B10.pkl   29CE_DA005_D4B10.pkl   34CE_UA005_D4B10.pkl   40CE_DA005_D4B10.pkl   46CE_UA005_D4B10.pkl   7CE_DA005_D4B10.pkl\n",
    " 10CE_UA01_D4B10.pkl    17CE_DA01_D4B10.pkl    22CE_UA01_D4B10.pkl    29CE_DA01_D4B10.pkl    34CE_UA01_D4B10.pkl    40CE_DA01_D4B10.pkl    46CE_UA01_D4B10.pkl    7CE_DA01_D4B10.pkl\n",
    " 11CE_DA005_D4B10.pkl   17CE_UA005_D4B10.pkl   23CE_DA005_D4B10.pkl   29CE_UA005_D4B10.pkl   35CE_DA005_D4B10.pkl   40CE_UA005_D4B10.pkl   47CE_DA005_D4B10.pkl   7CE_UA005_D4B10.pkl\n",
    " 11CE_DA01_D4B10.pkl    17CE_UA01_D4B10.pkl    23CE_DA01_D4B10.pkl    29CE_UA01_D4B10.pkl    35CE_DA01_D4B10.pkl    40CE_UA01_D4B10.pkl    47CE_DA01_D4B10.pkl    7CE_UA01_D4B10.pkl\n",
    " 11CE_UA005_D4B10.pkl   18CE_DA005_D4B10.pkl   23CE_UA005_D4B10.pkl   2CE_DA005_D4B10.pkl    35CE_UA005_D4B10.pkl   41CE_DA005_D4B10.pkl   47CE_UA005_D4B10.pkl   8CE_DA005_D4B10.pkl\n",
    " 11CE_UA01_D4B10.pkl    18CE_DA01_D4B10.pkl    23CE_UA01_D4B10.pkl    2CE_DA01_D4B10.pkl     35CE_UA01_D4B10.pkl    41CE_DA01_D4B10.pkl    47CE_UA01_D4B10.pkl    8CE_DA01_D4B10.pkl\n",
    " 12CE_DA005_D4B10.pkl   18CE_UA005_D4B10.pkl   24CE_DA005_D4B10.pkl   2CE_UA005_D4B10.pkl    36CE_DA005_D4B10.pkl   41CE_UA005_D4B10.pkl   48CE_DA005_D4B10.pkl   8CE_UA005_D4B10.pkl\n",
    " 12CE_DA01_D4B10.pkl    18CE_UA01_D4B10.pkl    24CE_DA01_D4B10.pkl    2CE_UA01_D4B10.pkl     36CE_DA01_D4B10.pkl    41CE_UA01_D4B10.pkl    48CE_DA01_D4B10.pkl    8CE_UA01_D4B10.pkl\n",
    " 12CE_UA005_D4B10.pkl   19CE_DA005_D4B10.pkl   24CE_UA005_D4B10.pkl   30CE_DA005_D4B10.pkl   36CE_UA005_D4B10.pkl   42CE_DA005_D4B10.pkl   48CE_UA005_D4B10.pkl   9CE_DA005_D4B10.pkl\n",
    " 12CE_UA01_D4B10.pkl    19CE_DA01_D4B10.pkl    24CE_UA01_D4B10.pkl    30CE_DA01_D4B10.pkl    36CE_UA01_D4B10.pkl    42CE_DA01_D4B10.pkl    48CE_UA01_D4B10.pkl    9CE_DA01_D4B10.pkl\n",
    " 13CE_DA005_D4B10.pkl   19CE_UA005_D4B10.pkl   25CE_DA005_D4B10.pkl   30CE_UA005_D4B10.pkl   37CE_DA005_D4B10.pkl   42CE_UA005_D4B10.pkl   49CE_DA005_D4B10.pkl   9CE_UA005_D4B10.pkl\n",
    " 13CE_DA01_D4B10.pkl    19CE_UA01_D4B10.pkl    25CE_DA01_D4B10.pkl    30CE_UA01_D4B10.pkl    37CE_DA01_D4B10.pkl    42CE_UA01_D4B10.pkl    49CE_DA01_D4B10.pkl    9CE_UA01_D4B10.pkl\n",
    " 13CE_UA005_D4B10.pkl   1CE_DA005_D4B10.pkl    25CE_UA005_D4B10.pkl   31CE_DA005_D4B10.pkl   37CE_UA005_D4B10.pkl   43CE_DA005_D4B10.pkl   49CE_UA005_D4B10.pkl   delete_results.sh\n",
    " 13CE_UA01_D4B10.pkl    1CE_DA01_D4B10.pkl     25CE_UA01_D4B10.pkl    31CE_DA01_D4B10.pkl    37CE_UA01_D4B10.pkl    43CE_DA01_D4B10.pkl    49CE_UA01_D4B10.pkl   ' .foo.png'\n",
    " 14CE_DA005_D4B10.pkl   1CE_UA005_D4B10.pkl    26CE_DA005_D4B10.pkl   31CE_UA005_D4B10.pkl   38CE_DA005_D4B10.pkl   43CE_UA005_D4B10.pkl   4CE_DA005_D4B10.pkl\n",
    " 14CE_DA01_D4B10.pkl    1CE_UA01_D4B10.pkl     26CE_DA01_D4B10.pkl    31CE_UA01_D4B10.pkl    38CE_DA01_D4B10.pkl    43CE_UA01_D4B10.pkl    4CE_DA01_D4B10.pkl\n",
    " 14CE_UA005_D4B10.pkl   20CE_DA005_D4B10.pkl   26CE_UA005_D4B10.pkl   32CE_DA005_D4B10.pkl   38CE_UA005_D4B10.pkl   44CE_DA005_D4B10.pkl   4CE_UA005_D4B10.pkl\n",
    " 14CE_UA01_D4B10.pkl    20CE_DA01_D4B10.pkl    26CE_UA01_D4B10.pkl    32CE_DA01_D4B10.pkl    38CE_UA01_D4B10.pkl    44CE_DA01_D4B10.pkl    4CE_UA01_D4B10.pkl\n",
    " 15CE_DA005_D4B10.pkl   20CE_UA005_D4B10.pkl   27CE_DA005_D4B10.pkl   32CE_UA005_D4B10.pkl   39CE_DA005_D4B10.pkl   44CE_UA005_D4B10.pkl   5CE_DA005_D4B10.pkl\n",
    " 15CE_DA01_D4B10.pkl    20CE_UA01_D4B10.pkl    27CE_DA01_D4B10.pkl    32CE_UA01_D4B10.pkl    39CE_DA01_D4B10.pkl    44CE_UA01_D4B10.pkl    5CE_DA01_D4B10.pkl\n",
    "\n",
    "\n",
    " \"\"\""
   ]
  },
  {
   "cell_type": "markdown",
   "metadata": {},
   "source": [
    "# Results"
   ]
  },
  {
   "cell_type": "code",
   "execution_count": null,
   "metadata": {},
   "outputs": [
    {
     "name": "stdout",
     "output_type": "stream",
     "text": [
      "Duplicate Indices for UNQ: []\n",
      "Duplicate Indices for DPL: []\n",
      "Missing Indices for UNQ: []\n",
      "Missing Indices for DPL: []\n",
      "Missing (combined) JobNames:\n",
      "[]\n",
      "Have both JobNames:\n",
      "['0CE_DA005', '1CE_DA005', '2CE_DA005', '3CE_DA005', '4CE_DA005', '5CE_DA005', '6CE_DA005', '7CE_DA005', '8CE_DA005', '9CE_DA005', '10CE_DA005', '11CE_DA005', '12CE_DA005', '13CE_DA005', '14CE_DA005', '15CE_DA005', '16CE_DA005', '17CE_DA005', '18CE_DA005', '19CE_DA005', '20CE_DA005', '21CE_DA005', '22CE_DA005', '23CE_DA005', '24CE_DA005', '25CE_DA005', '26CE_DA005', '27CE_DA005', '28CE_DA005', '29CE_DA005', '30CE_DA005', '31CE_DA005', '32CE_DA005', '33CE_DA005', '34CE_DA005', '35CE_DA005', '36CE_DA005', '37CE_DA005', '38CE_DA005', '39CE_DA005', '40CE_DA005', '41CE_DA005', '42CE_DA005', '43CE_DA005', '44CE_DA005', '45CE_DA005', '46CE_DA005', '47CE_DA005', '48CE_DA005', '49CE_DA005', '0CE_UA005', '1CE_UA005', '2CE_UA005', '3CE_UA005', '4CE_UA005', '5CE_UA005', '6CE_UA005', '7CE_UA005', '8CE_UA005', '9CE_UA005', '10CE_UA005', '11CE_UA005', '12CE_UA005', '13CE_UA005', '14CE_UA005', '15CE_UA005', '16CE_UA005', '17CE_UA005', '18CE_UA005', '19CE_UA005', '20CE_UA005', '21CE_UA005', '22CE_UA005', '23CE_UA005', '24CE_UA005', '25CE_UA005', '26CE_UA005', '27CE_UA005', '28CE_UA005', '29CE_UA005', '30CE_UA005', '31CE_UA005', '32CE_UA005', '33CE_UA005', '34CE_UA005', '35CE_UA005', '36CE_UA005', '37CE_UA005', '38CE_UA005', '39CE_UA005', '40CE_UA005', '41CE_UA005', '42CE_UA005', '43CE_UA005', '44CE_UA005', '45CE_UA005', '46CE_UA005', '47CE_UA005', '48CE_UA005', '49CE_UA005']\n"
     ]
    }
   ],
   "source": [
    "FindMissingSimulations(Abbrv=\"CE\", Threshold = \"00500\", text = text1)"
   ]
  }
 ],
 "metadata": {
  "kernelspec": {
   "display_name": "rashomon-3.9",
   "language": "python",
   "name": "python3"
  },
  "language_info": {
   "codemirror_mode": {
    "name": "ipython",
    "version": 3
   },
   "file_extension": ".py",
   "mimetype": "text/x-python",
   "name": "python",
   "nbconvert_exporter": "python",
   "pygments_lexer": "ipython3",
   "version": "3.9.20"
  }
 },
 "nbformat": 4,
 "nbformat_minor": 2
}
